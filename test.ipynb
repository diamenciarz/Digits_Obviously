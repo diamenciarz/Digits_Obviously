{
 "cells": [
  {
   "cell_type": "code",
   "execution_count": 92,
   "metadata": {},
   "outputs": [],
   "source": [
    "from scipy.io import loadmat\n",
    "# from displayData import displayData\n",
    "import numpy as np\n",
    "import matplotlib.pyplot as plt\n",
    "from sigmoid import sigmoid\n"
   ]
  },
  {
   "cell_type": "code",
   "execution_count": 69,
   "metadata": {},
   "outputs": [],
   "source": [
    "def displayData(data):\n",
    "    fig = plt.figure()\n",
    "    plt.gray()\n",
    "    for i in range(data.shape[0]):\n",
    "        subplot_dimensions = int(np.ceil(np.sqrt(data.shape[0])))\n",
    "        ax = fig.add_subplot(subplot_dimensions, subplot_dimensions, i+1)\n",
    "        ax.imshow(np.transpose(np.reshape(data[i,:], (-1, 20))))\n",
    "        ax.set_axis_off()\n",
    "    plt.show()\n",
    "    \n",
    "def correct_classes(Ys):\n",
    "    for i in range(len(Ys)):\n",
    "        if Ys[i] == 10:\n",
    "            Ys[i] = 0\n",
    "    return Ys"
   ]
  },
  {
   "cell_type": "code",
   "execution_count": 91,
   "metadata": {},
   "outputs": [
    {
     "data": {
      "image/png": "[encoded data removed]",
      "text/plain": [
       "<Figure size 640x480 with 11 Axes>"
      ]
     },
     "metadata": {},
     "output_type": "display_data"
    },
    {
     "name": "stdout",
     "output_type": "stream",
     "text": [
      "[0]\n",
      "[0]\n",
      "[0]\n",
      "[0]\n",
      "[0]\n",
      "[0]\n",
      "[0]\n",
      "[0]\n",
      "[0]\n",
      "[0]\n",
      "[0]\n"
     ]
    }
   ],
   "source": [
    "dataset = loadmat(\"digitdata.mat\")\n",
    "Xs = dataset.get(\"X\")\n",
    "# print(dataset)\n",
    "Ys = correct_classes(dataset.get(\"y\"))\n",
    "XsCut = Xs[:11]\n",
    "YsCut = Ys[:11]\n",
    "# Xs[0]\n",
    "displayData(XsCut)\n",
    "for i in range(len(YsCut)):\n",
    "    print(YsCut[i])\n",
    "    "
   ]
  },
  {
   "cell_type": "code",
   "execution_count": 116,
   "metadata": {},
   "outputs": [
    {
     "data": {
      "text/plain": [
       "array([1, 2, 3, 4, 5, 6, 7, 8, 9])"
      ]
     },
     "execution_count": 116,
     "metadata": {},
     "output_type": "execute_result"
    }
   ],
   "source": [
    "np.arange(1,10)"
   ]
  },
  {
   "cell_type": "code",
   "execution_count": 148,
   "metadata": {},
   "outputs": [
    {
     "name": "stdout",
     "output_type": "stream",
     "text": [
      "Xs shape  (5000, 400)\n",
      "Theta1 shape  (25, 401)\n",
      "Theta2 shape  (10, 26)\n"
     ]
    },
    {
     "data": {
      "text/plain": [
       "array([[-50.48229677],\n",
       "       [ -3.78166727],\n",
       "       [  7.2106129 ],\n",
       "       [-65.10979454],\n",
       "       [ -8.23000483],\n",
       "       [ -7.05143611],\n",
       "       [-23.14599966],\n",
       "       [ 21.77990589],\n",
       "       [ 14.55555537],\n",
       "       [ 86.5795755 ]])"
      ]
     },
     "execution_count": 148,
     "metadata": {},
     "output_type": "execute_result"
    }
   ],
   "source": [
    "mat = loadmat('debugweights.mat');\n",
    "\n",
    "# Unroll parameters\n",
    "Theta1 = mat['Theta1']\n",
    "Theta1_1d = np.reshape(Theta1, Theta1.size, order='F')\n",
    "Theta2 = mat['Theta2']\n",
    "Theta2_1d = np.reshape(Theta2, Theta2.size, order='F')\n",
    "\n",
    "nn_params = np.hstack((Theta1_1d, Theta2_1d))\n",
    "\n",
    "print(\"Xs shape \", Xs.shape)\n",
    "print(\"Theta1 shape \", Theta1.shape)\n",
    "print(\"Theta2 shape \", Theta2.shape)\n",
    "\n",
    "X = Xs[0]\n",
    "\n",
    "def calculate_activations(theta, X):\n",
    "    # Calculate activations\n",
    "    z2 = [0] * theta.shape[0]\n",
    "    for node in range(theta.shape[0]):\n",
    "        # Add the bias\n",
    "        z2[node] += theta[node,0]\n",
    "        for i in range(1,theta.shape[1]):\n",
    "            z2[node] += X[i - 1] * theta[node,i]\n",
    "\n",
    "    return z2\n",
    "\n",
    "def make_column_vector(vector):\n",
    "    return np.array([vector]).T\n",
    "\n",
    "z2 = calculate_activations(Theta1, X)\n",
    "z3 = calculate_activations(Theta2, z2)\n",
    "\n",
    "classes = make_column_vector(z3)\n",
    "classes"
   ]
  }
 ],
 "metadata": {
  "kernelspec": {
   "display_name": "Python 3.10.7 64-bit",
   "language": "python",
   "name": "python3"
  },
  "language_info": {
   "codemirror_mode": {
    "name": "ipython",
    "version": 3
   },
   "file_extension": ".py",
   "mimetype": "text/x-python",
   "name": "python",
   "nbconvert_exporter": "python",
   "pygments_lexer": "ipython3",
   "version": "3.10.7"
  },
  "orig_nbformat": 4,
  "vscode": {
   "interpreter": {
    "hash": "f2ef51051609142771629d434b4076ac760d319b8e30ad4273a4abf74efcbd55"
   }
  }
 },
 "nbformat": 4,
 "nbformat_minor": 2
}
