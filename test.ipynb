{
 "cells": [
  {
   "cell_type": "code",
   "execution_count": 37,
   "metadata": {},
   "outputs": [],
   "source": [
    "from scipy.io import loadmat\n",
    "# from displayData import displayData\n",
    "import numpy as np\n",
    "import matplotlib.pyplot as plt\n",
    "\n",
    "def displayData(data):\n",
    "    fig = plt.figure()\n",
    "    plt.gray()\n",
    "    for i in range(data.shape[0]):\n",
    "        subplot_dimensions = int(np.ceil(np.sqrt(data.shape[0])))\n",
    "        ax = fig.add_subplot(subplot_dimensions, subplot_dimensions, i+1)\n",
    "        ax.imshow(np.transpose(np.reshape(data[i,:], (-1, 20))))\n",
    "        ax.set_axis_off()\n",
    "    plt.show()"
   ]
  },
  {
   "cell_type": "code",
   "execution_count": 46,
   "metadata": {},
   "outputs": [
    {
     "data": {
      "image/png": "[encoded data removed]",
      "text/plain": [
       "<Figure size 640x480 with 2 Axes>"
      ]
     },
     "metadata": {},
     "output_type": "display_data"
    },
    {
     "ename": "TypeError",
     "evalue": "displayData() missing 1 required positional argument: 'data'",
     "output_type": "error",
     "traceback": [
      "\u001b[1;31m---------------------------------------------------------------------------\u001b[0m",
      "\u001b[1;31mTypeError\u001b[0m                                 Traceback (most recent call last)",
      "Cell \u001b[1;32mIn [46], line 5\u001b[0m\n\u001b[0;32m      3\u001b[0m XsCut \u001b[39m=\u001b[39m Xs[:\u001b[39m2\u001b[39m]\n\u001b[0;32m      4\u001b[0m \u001b[39m# Xs[0]\u001b[39;00m\n\u001b[1;32m----> 5\u001b[0m displayData(XsCut)\n",
      "Cell \u001b[1;32mIn [37], line 15\u001b[0m, in \u001b[0;36mdisplayData\u001b[1;34m(data)\u001b[0m\n\u001b[0;32m     13\u001b[0m     ax\u001b[39m.\u001b[39mset_axis_off()\n\u001b[0;32m     14\u001b[0m plt\u001b[39m.\u001b[39mshow()\n\u001b[1;32m---> 15\u001b[0m displayData()\n",
      "\u001b[1;31mTypeError\u001b[0m: displayData() missing 1 required positional argument: 'data'"
     ]
    }
   ],
   "source": [
    "dataset = loadmat(\"digitdata.mat\")\n",
    "Xs = dataset.get(\"X\")\n",
    "XsCut = Xs[:2]\n",
    "# Xs[0]\n",
    "displayData(XsCut)"
   ]
  }
 ],
 "metadata": {
  "kernelspec": {
   "display_name": "Python 3.10.7 64-bit",
   "language": "python",
   "name": "python3"
  },
  "language_info": {
   "codemirror_mode": {
    "name": "ipython",
    "version": 3
   },
   "file_extension": ".py",
   "mimetype": "text/x-python",
   "name": "python",
   "nbconvert_exporter": "python",
   "pygments_lexer": "ipython3",
   "version": "3.10.7"
  },
  "orig_nbformat": 4,
  "vscode": {
   "interpreter": {
    "hash": "f2ef51051609142771629d434b4076ac760d319b8e30ad4273a4abf74efcbd55"
   }
  }
 },
 "nbformat": 4,
 "nbformat_minor": 2
}
